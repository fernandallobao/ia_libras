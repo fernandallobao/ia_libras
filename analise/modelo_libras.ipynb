{
 "cells": [
  {
   "cell_type": "code",
   "execution_count": 1,
   "id": "9cd40389",
   "metadata": {},
   "outputs": [],
   "source": [
    "import tensorflow as tf\n",
    "import matplotlib.pyplot as plt\n",
    "import pandas as pd \n",
    "import numpy as np\n",
    "from tensorflow import keras"
   ]
  },
  {
   "cell_type": "code",
   "execution_count": 2,
   "id": "8240e9a2",
   "metadata": {},
   "outputs": [
    {
     "name": "stdout",
     "output_type": "stream",
     "text": [
      "../train\n",
      "../test\n"
     ]
    }
   ],
   "source": [
    "train_dir = \"../train\"\n",
    "test_dir = \"../test\"\n",
    "\n",
    "print(train_dir)\n",
    "print(test_dir)\n"
   ]
  },
  {
   "cell_type": "code",
   "execution_count": 3,
   "id": "f0f81c35",
   "metadata": {},
   "outputs": [
    {
     "name": "stdout",
     "output_type": "stream",
     "text": [
      "Found 34714 files belonging to 21 classes.\n",
      "Found 11548 files belonging to 21 classes.\n"
     ]
    }
   ],
   "source": [
    "# Carregue os datasets\n",
    "img_size = (64, 64)  # Tamanho desejado (ex: 224x224 para Transfer Learning)\n",
    "batch_size = 32        # Pode ajustar conforme sua GPU\n",
    "\n",
    "train_ds = tf.keras.preprocessing.image_dataset_from_directory(\n",
    "    train_dir,\n",
    "    image_size=img_size,\n",
    "    batch_size=batch_size,\n",
    "    shuffle=True,       # Embaralha os dados\n",
    "    seed=42             # Para reprodutibilidade\n",
    ")\n",
    "\n",
    "test_ds = tf.keras.preprocessing.image_dataset_from_directory(\n",
    "    test_dir,\n",
    "    image_size=img_size,\n",
    "    batch_size=batch_size,\n",
    "    shuffle=False       # Não precisa embaralhar o teste\n",
    ")"
   ]
  },
  {
   "cell_type": "code",
   "execution_count": 4,
   "id": "c42f742d",
   "metadata": {},
   "outputs": [
    {
     "name": "stdout",
     "output_type": "stream",
     "text": [
      "Classes (letras) encontradas: ['A', 'B', 'C', 'D', 'E', 'F', 'G', 'I', 'L', 'M', 'N', 'O', 'P', 'Q', 'R', 'S', 'T', 'U', 'V', 'W', 'Y']\n",
      "\n",
      "Formato das imagens: (32, 64, 64, 3)\n",
      "Formato de UMA imagem: (64, 64, 3)\n",
      "Rótulos do batch: [ 7 13  6 19 18 13  1  6  3 15  1 18  9  4  1 11  9 17  5  0 12  4 10 19\n",
      " 13  4 17  1  3 18  1  5]\n"
     ]
    }
   ],
   "source": [
    "# Número de classes (letras)\n",
    "class_names = train_ds.class_names\n",
    "print(\"Classes (letras) encontradas:\", class_names)\n",
    "\n",
    "# Formato de um batch de imagens\n",
    "for images, labels in train_ds.take(1):  # Pega o primeiro batch\n",
    "    print(\"\\nFormato das imagens:\", images.shape)  # (batch_size, 224, 224, 3)\n",
    "    print(\"Formato de UMA imagem:\", images[0].shape)  # (224, 224, 3)\n",
    "    print(\"Rótulos do batch:\", labels.numpy())  # Ex: [0, 2, 1, ...] (índices das classes)"
   ]
  },
  {
   "cell_type": "code",
   "execution_count": null,
   "id": "ea86660d",
   "metadata": {},
   "outputs": [],
   "source": [
    "print(\"GPUs disponíveis:\", tf.config.list_physical_devices('GPU'))"
   ]
  },
  {
   "cell_type": "code",
   "execution_count": 5,
   "id": "c96e0211",
   "metadata": {},
   "outputs": [],
   "source": [
    "normalization_layer = tf.keras.layers.Rescaling(1./255)\n",
    "train_ds = train_ds.map(lambda x, y: (normalization_layer(x), y))\n",
    "test_ds = test_ds.map(lambda x, y: (normalization_layer(x), y))"
   ]
  },
  {
   "cell_type": "code",
   "execution_count": 6,
   "id": "b1f7ccaa",
   "metadata": {},
   "outputs": [
    {
     "name": "stdout",
     "output_type": "stream",
     "text": [
      "Epoch 1/10\n"
     ]
    },
    {
     "name": "stderr",
     "output_type": "stream",
     "text": [
      "c:\\Users\\Aluno Tarde\\Documents\\test_arduino\\.venv\\lib\\site-packages\\keras\\src\\layers\\convolutional\\base_conv.py:113: UserWarning: Do not pass an `input_shape`/`input_dim` argument to a layer. When using Sequential models, prefer using an `Input(shape)` object as the first layer in the model instead.\n",
      "  super().__init__(activity_regularizer=activity_regularizer, **kwargs)\n"
     ]
    },
    {
     "name": "stdout",
     "output_type": "stream",
     "text": [
      "\u001b[1m1085/1085\u001b[0m \u001b[32m━━━━━━━━━━━━━━━━━━━━\u001b[0m\u001b[37m\u001b[0m \u001b[1m96s\u001b[0m 88ms/step - accuracy: 0.6623 - loss: 1.3781 - val_accuracy: 0.7966 - val_loss: 0.7452\n",
      "Epoch 2/10\n",
      "\u001b[1m1085/1085\u001b[0m \u001b[32m━━━━━━━━━━━━━━━━━━━━\u001b[0m\u001b[37m\u001b[0m \u001b[1m33s\u001b[0m 30ms/step - accuracy: 0.9444 - loss: 0.2323 - val_accuracy: 0.8296 - val_loss: 0.6437\n",
      "Epoch 3/10\n",
      "\u001b[1m1085/1085\u001b[0m \u001b[32m━━━━━━━━━━━━━━━━━━━━\u001b[0m\u001b[37m\u001b[0m \u001b[1m34s\u001b[0m 31ms/step - accuracy: 0.9802 - loss: 0.0955 - val_accuracy: 0.8396 - val_loss: 0.6264\n",
      "Epoch 4/10\n",
      "\u001b[1m1085/1085\u001b[0m \u001b[32m━━━━━━━━━━━━━━━━━━━━\u001b[0m\u001b[37m\u001b[0m \u001b[1m33s\u001b[0m 30ms/step - accuracy: 0.9905 - loss: 0.0448 - val_accuracy: 0.8367 - val_loss: 0.6360\n",
      "Epoch 5/10\n",
      "\u001b[1m1085/1085\u001b[0m \u001b[32m━━━━━━━━━━━━━━━━━━━━\u001b[0m\u001b[37m\u001b[0m \u001b[1m33s\u001b[0m 30ms/step - accuracy: 0.9966 - loss: 0.0218 - val_accuracy: 0.8272 - val_loss: 0.7304\n",
      "Epoch 6/10\n",
      "\u001b[1m1085/1085\u001b[0m \u001b[32m━━━━━━━━━━━━━━━━━━━━\u001b[0m\u001b[37m\u001b[0m \u001b[1m34s\u001b[0m 31ms/step - accuracy: 0.9988 - loss: 0.0115 - val_accuracy: 0.8485 - val_loss: 0.6956\n",
      "Epoch 7/10\n",
      "\u001b[1m1085/1085\u001b[0m \u001b[32m━━━━━━━━━━━━━━━━━━━━\u001b[0m\u001b[37m\u001b[0m \u001b[1m41s\u001b[0m 31ms/step - accuracy: 0.9988 - loss: 0.0080 - val_accuracy: 0.8573 - val_loss: 0.7226\n",
      "Epoch 8/10\n",
      "\u001b[1m1085/1085\u001b[0m \u001b[32m━━━━━━━━━━━━━━━━━━━━\u001b[0m\u001b[37m\u001b[0m \u001b[1m33s\u001b[0m 30ms/step - accuracy: 0.9981 - loss: 0.0095 - val_accuracy: 0.8525 - val_loss: 0.7949\n",
      "Epoch 9/10\n",
      "\u001b[1m1085/1085\u001b[0m \u001b[32m━━━━━━━━━━━━━━━━━━━━\u001b[0m\u001b[37m\u001b[0m \u001b[1m33s\u001b[0m 30ms/step - accuracy: 0.9996 - loss: 0.0033 - val_accuracy: 0.8502 - val_loss: 0.8155\n",
      "Epoch 10/10\n",
      "\u001b[1m1085/1085\u001b[0m \u001b[32m━━━━━━━━━━━━━━━━━━━━\u001b[0m\u001b[37m\u001b[0m \u001b[1m33s\u001b[0m 31ms/step - accuracy: 0.9993 - loss: 0.0047 - val_accuracy: 0.8380 - val_loss: 0.9061\n"
     ]
    },
    {
     "data": {
      "text/plain": [
       "<keras.src.callbacks.history.History at 0x21fadd07c70>"
      ]
     },
     "execution_count": 6,
     "metadata": {},
     "output_type": "execute_result"
    }
   ],
   "source": [
    "model = tf.keras.Sequential([\n",
    "    tf.keras.layers.Conv2D(32, (3, 3), activation='relu', input_shape=(64, 64, 3)),\n",
    "    tf.keras.layers.MaxPooling2D(),\n",
    "    tf.keras.layers.Flatten(),\n",
    "    tf.keras.layers.Dense(len(class_names), activation='softmax')\n",
    "])\n",
    "\n",
    "model.compile(optimizer='adam', loss='sparse_categorical_crossentropy', metrics=['accuracy'])\n",
    "model.fit(train_ds, validation_data=test_ds, epochs=10)"
   ]
  },
  {
   "cell_type": "code",
   "execution_count": 7,
   "id": "741633e0",
   "metadata": {},
   "outputs": [
    {
     "name": "stdout",
     "output_type": "stream",
     "text": [
      "\u001b[1m361/361\u001b[0m \u001b[32m━━━━━━━━━━━━━━━━━━━━\u001b[0m\u001b[37m\u001b[0m \u001b[1m3s\u001b[0m 9ms/step - accuracy: 0.8507 - loss: 0.9027\n",
      "Acurácia no teste: 83.80%\n",
      "Perda no teste: 0.9061\n"
     ]
    }
   ],
   "source": [
    "# Avaliação no conjunto de teste\n",
    "test_loss, test_accuracy = model.evaluate(test_ds)\n",
    "\n",
    "print(f\"Acurácia no teste: {test_accuracy:.2%}\")\n",
    "print(f\"Perda no teste: {test_loss:.4f}\")"
   ]
  },
  {
   "cell_type": "code",
   "execution_count": 27,
   "id": "aa8aaa2a",
   "metadata": {},
   "outputs": [
    {
     "data": {
      "image/png": "[encoded data removed]",
      "text/plain": [
       "<Figure size 640x480 with 1 Axes>"
      ]
     },
     "metadata": {},
     "output_type": "display_data"
    }
   ],
   "source": [
    "#etapa 10 -  TREINAMENTO DE IMAGEM EXTERNA\n",
    "\n",
    "from tensorflow.keras.preprocessing import image\n",
    "from PIL import Image\n",
    "import numpy as np\n",
    "\n",
    "#caminho das imagens\n",
    "caminho = '12.png'\n",
    "\n",
    "#abrir imagem com PIL\n",
    "img = Image.open(caminho)# L = grayscale\n",
    "\n",
    "#redimensiona opara 28x28 pixls (formato do dataset Fashion MNIST)\n",
    "img = img.resize((64,64))\n",
    "\n",
    "#converter para array numpy e normalizar\n",
    "img_array = np.array(img) / 255.0  #nomalizar par 0-1(preto ou branco)\n",
    "\n",
    "#oprcional -  inverte cores se o fundo para escuro se a peça for clara\n",
    "# img_array = 1 - img_array\n",
    "\n",
    "#adiciona a dimensao de lote (batch_size=1)\n",
    "img_array = img_array.reshape(1,64,64,3) #em 1 dimensao no formato 28x28\n",
    "\n",
    "import matplotlib.pyplot as plt\n",
    "plt.imshow(img_array[0], cmap='gray')\n",
    "plt.title('Imagem tratada')\n",
    "plt.axis('off')\n",
    "plt.show()\n",
    "\n",
    "#se o modelo for treinado com o fundo escuro precisa converter as imagens do mesmo jeito"
   ]
  },
  {
   "cell_type": "code",
   "execution_count": 28,
   "id": "81cb573f",
   "metadata": {},
   "outputs": [
    {
     "name": "stdout",
     "output_type": "stream",
     "text": [
      "\u001b[1m1/1\u001b[0m \u001b[32m━━━━━━━━━━━━━━━━━━━━\u001b[0m\u001b[37m\u001b[0m \u001b[1m0s\u001b[0m 47ms/step\n",
      "Classe prevista: F\n",
      "Confirança: 100.00%\n"
     ]
    }
   ],
   "source": [
    "#previsao da classe\n",
    "predicao = model.predict(img_array)\n",
    "\n",
    "#idetificando o indice da classe cm maior probabilidade\n",
    "indice_classe = np.argmax(predicao)\n",
    "\n",
    "print(f'Classe prevista: {class_names[indice_classe]}')\n",
    "print(f'Confirança: {predicao[0][indice_classe]*100:.2f}%')"
   ]
  },
  {
   "cell_type": "code",
   "execution_count": 29,
   "id": "c438b2e1",
   "metadata": {},
   "outputs": [
    {
     "name": "stderr",
     "output_type": "stream",
     "text": [
      "WARNING:absl:You are saving your model as an HDF5 file via `model.save()` or `keras.saving.save_model(model)`. This file format is considered legacy. We recommend using instead the native Keras format, e.g. `model.save('my_model.keras')` or `keras.saving.save_model(model, 'my_model.keras')`. \n"
     ]
    }
   ],
   "source": [
    "model.save(\"modelo_libras2.h5\")"
   ]
  }
 ],
 "metadata": {
  "kernelspec": {
   "display_name": ".venv",
   "language": "python",
   "name": "python3"
  },
  "language_info": {
   "codemirror_mode": {
    "name": "ipython",
    "version": 3
   },
   "file_extension": ".py",
   "mimetype": "text/x-python",
   "name": "python",
   "nbconvert_exporter": "python",
   "pygments_lexer": "ipython3",
   "version": "3.10.11"
  }
 },
 "nbformat": 4,
 "nbformat_minor": 5
}

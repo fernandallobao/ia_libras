{
 "cells": [
  {
   "cell_type": "code",
   "execution_count": 3,
   "id": "9cd40389",
   "metadata": {},
   "outputs": [],
   "source": [
    "import tensorflow as tf\n",
    "import matplotlib.pyplot as plt\n",
    "import pandas as pd \n",
    "import numpy as np\n",
    "from tensorflow import keras"
   ]
  },
  {
   "cell_type": "code",
   "execution_count": 4,
   "id": "8240e9a2",
   "metadata": {},
   "outputs": [
    {
     "name": "stdout",
     "output_type": "stream",
     "text": [
      "../train\n",
      "../test\n"
     ]
    }
   ],
   "source": [
    "train_dir = \"../train\"\n",
    "test_dir = \"../test\"\n",
    "\n",
    "print(train_dir)\n",
    "print(test_dir)\n"
   ]
  },
  {
   "cell_type": "code",
   "execution_count": 5,
   "id": "f0f81c35",
   "metadata": {},
   "outputs": [
    {
     "name": "stdout",
     "output_type": "stream",
     "text": [
      "Found 6802 files belonging to 5 classes.\n",
      "Found 2562 files belonging to 5 classes.\n"
     ]
    }
   ],
   "source": [
    "# Carregue os datasets\n",
    "img_size = (224, 224)  # Tamanho desejado (ex: 224x224 para Transfer Learning)\n",
    "batch_size = 32        # Pode ajustar conforme sua GPU\n",
    "\n",
    "train_ds_original = tf.keras.preprocessing.image_dataset_from_directory(\n",
    "    train_dir,\n",
    "    image_size=img_size,\n",
    "    batch_size=batch_size,\n",
    "    shuffle=True,       # Embaralha os dados\n",
    "    seed=42             # Para reprodutibilidade\n",
    ")\n",
    "\n",
    "test_ds_original = tf.keras.preprocessing.image_dataset_from_directory(\n",
    "    test_dir,\n",
    "    image_size=img_size,\n",
    "    batch_size=batch_size,\n",
    "    shuffle=False       # Não precisa embaralhar o teste\n",
    ")"
   ]
  },
  {
   "cell_type": "code",
   "execution_count": null,
   "id": "ea86660d",
   "metadata": {},
   "outputs": [
    {
     "name": "stdout",
     "output_type": "stream",
     "text": [
      "Classes (letras) encontradas: ['A', 'E', 'I', 'O', 'U']\n"
     ]
    },
    {
     "ename": "AttributeError",
     "evalue": "'_MapDataset' object has no attribute 'shape'",
     "output_type": "error",
     "traceback": [
      "\u001b[1;31m---------------------------------------------------------------------------\u001b[0m",
      "\u001b[1;31mAttributeError\u001b[0m                            Traceback (most recent call last)",
      "Cell \u001b[1;32mIn[11], line 14\u001b[0m\n\u001b[0;32m     11\u001b[0m train_ds \u001b[38;5;241m=\u001b[39m train_ds_original\u001b[38;5;241m.\u001b[39mmap(convert_to_grayscale)\u001b[38;5;241m.\u001b[39mmap(\u001b[38;5;28;01mlambda\u001b[39;00m x, y: (x \u001b[38;5;241m/\u001b[39m \u001b[38;5;241m255.0\u001b[39m, y))\n\u001b[0;32m     12\u001b[0m test_ds \u001b[38;5;241m=\u001b[39m test_ds_original\u001b[38;5;241m.\u001b[39mmap(convert_to_grayscale)\u001b[38;5;241m.\u001b[39mmap(\u001b[38;5;28;01mlambda\u001b[39;00m x, y: (x \u001b[38;5;241m/\u001b[39m \u001b[38;5;241m255.0\u001b[39m, y))\n\u001b[1;32m---> 14\u001b[0m \u001b[43mtest_ds\u001b[49m\u001b[38;5;241;43m.\u001b[39;49m\u001b[43mshape\u001b[49m()\n",
      "\u001b[1;31mAttributeError\u001b[0m: '_MapDataset' object has no attribute 'shape'"
     ]
    }
   ],
   "source": [
    "# Número de classes (letras)\n",
    "class_names = train_ds_original.class_names\n",
    "print(\"Classes (letras) encontradas:\", class_names)\n",
    "\n",
    "# Função para converter RGB → Grayscale\n",
    "def convert_to_grayscale(image, label):\n",
    "    image = tf.image.rgb_to_grayscale(image)\n",
    "    image = image / 255.0\n",
    "    return image, label\n",
    "\n",
    "# Aplica as transformações (grayscale + normalização)\n",
    "train_ds = train_ds_original.map(convert_to_grayscale)\n",
    "test_ds = test_ds_original.map(convert_to_grayscale)\n",
    "\n"
   ]
  },
  {
   "cell_type": "code",
   "execution_count": 7,
   "id": "a04866ee",
   "metadata": {},
   "outputs": [
    {
     "name": "stdout",
     "output_type": "stream",
     "text": [
      "\n",
      "Formato das imagens (pós-grayscale): (32, 224, 224, 1)\n",
      "Formato de UMA imagem: (224, 224, 1)\n",
      "Rótulos do batch: [0 4 3 2 2 4 4 1 1 1 1 0 2 0 2 2 4 2 0 0 0 2 4 3 2 3 1 3 4 1 4 2]\n"
     ]
    }
   ],
   "source": [
    "# Verifica o formato (agora será (224, 224, 1))\n",
    "for images, labels in train_ds.take(1):\n",
    "    print(\"\\nFormato das imagens (pós-grayscale):\", images.shape)  # (batch_size, 224, 224, 1)\n",
    "    print(\"Formato de UMA imagem:\", images[0].shape)  # (224, 224, 1)\n",
    "    print(\"Rótulos do batch:\", labels.numpy())  # Ex: [0, 2, 1, ...]"
   ]
  },
  {
   "cell_type": "code",
   "execution_count": null,
   "id": "b1f7ccaa",
   "metadata": {},
   "outputs": [
    {
     "name": "stderr",
     "output_type": "stream",
     "text": [
      "d:\\Nova pasta\\.venv\\lib\\site-packages\\keras\\src\\layers\\convolutional\\base_conv.py:113: UserWarning: Do not pass an `input_shape`/`input_dim` argument to a layer. When using Sequential models, prefer using an `Input(shape)` object as the first layer in the model instead.\n",
      "  super().__init__(activity_regularizer=activity_regularizer, **kwargs)\n"
     ]
    },
    {
     "name": "stdout",
     "output_type": "stream",
     "text": [
      "Epoch 1/5\n",
      "\u001b[1m213/213\u001b[0m \u001b[32m━━━━━━━━━━━━━━━━━━━━\u001b[0m\u001b[37m\u001b[0m \u001b[1m122s\u001b[0m 541ms/step - accuracy: 0.6069 - loss: 2.5008 - val_accuracy: 0.2787 - val_loss: 2.5580\n",
      "Epoch 2/5\n",
      "\u001b[1m213/213\u001b[0m \u001b[32m━━━━━━━━━━━━━━━━━━━━\u001b[0m\u001b[37m\u001b[0m \u001b[1m76s\u001b[0m 354ms/step - accuracy: 0.9965 - loss: 0.0671 - val_accuracy: 0.3247 - val_loss: 2.4506\n",
      "Epoch 3/5\n",
      "\u001b[1m213/213\u001b[0m \u001b[32m━━━━━━━━━━━━━━━━━━━━\u001b[0m\u001b[37m\u001b[0m \u001b[1m75s\u001b[0m 349ms/step - accuracy: 0.9990 - loss: 0.0226 - val_accuracy: 0.3064 - val_loss: 3.1294\n",
      "Epoch 4/5\n",
      "\u001b[1m213/213\u001b[0m \u001b[32m━━━━━━━━━━━━━━━━━━━━\u001b[0m\u001b[37m\u001b[0m \u001b[1m73s\u001b[0m 340ms/step - accuracy: 0.9997 - loss: 0.0106 - val_accuracy: 0.3169 - val_loss: 3.2143\n",
      "Epoch 5/5\n",
      "\u001b[1m213/213\u001b[0m \u001b[32m━━━━━━━━━━━━━━━━━━━━\u001b[0m\u001b[37m\u001b[0m \u001b[1m79s\u001b[0m 327ms/step - accuracy: 1.0000 - loss: 0.0063 - val_accuracy: 0.3021 - val_loss: 3.8505\n"
     ]
    },
    {
     "data": {
      "text/plain": [
       "<keras.src.callbacks.history.History at 0x20dad473880>"
      ]
     },
     "execution_count": 8,
     "metadata": {},
     "output_type": "execute_result"
    }
   ],
   "source": [
    "# Define o modelo com input_shape correto (1 canal)\n",
    "model = tf.keras.Sequential([\n",
    "    tf.keras.layers.Conv2D(32, (3, 3), activation='relu', input_shape=(224, 224, 1)),\n",
    "    tf.keras.layers.MaxPooling2D(),\n",
    "    tf.keras.layers.Flatten(input_shape=(224,224)),\n",
    "    tf.keras.layers.Dropout(0.2),\n",
    "    tf.keras.layers.Dense(len(class_names), activation='softmax')\n",
    "])\n",
    "\n",
    "model.compile(optimizer='adam', loss='sparse_categorical_crossentropy', metrics=['accuracy'])\n",
    "model.fit(train_ds, validation_data=test_ds, epochs=5)"
   ]
  },
  {
   "cell_type": "code",
   "execution_count": 9,
   "id": "741633e0",
   "metadata": {},
   "outputs": [
    {
     "name": "stdout",
     "output_type": "stream",
     "text": [
      "\u001b[1m81/81\u001b[0m \u001b[32m━━━━━━━━━━━━━━━━━━━━\u001b[0m\u001b[37m\u001b[0m \u001b[1m6s\u001b[0m 73ms/step - accuracy: 0.1590 - loss: 4.0735\n",
      "Acurácia no teste: 30.21%\n",
      "Perda no teste: 3.8505\n"
     ]
    }
   ],
   "source": [
    "# Avaliação no conjunto de teste\n",
    "test_loss, test_accuracy = model.evaluate(test_ds)\n",
    "\n",
    "print(f\"Acurácia no teste: {test_accuracy:.2%}\")\n",
    "print(f\"Perda no teste: {test_loss:.4f}\")"
   ]
  },
  {
   "cell_type": "code",
   "execution_count": 10,
   "id": "aa8aaa2a",
   "metadata": {},
   "outputs": [
    {
     "ename": "FileNotFoundError",
     "evalue": "[Errno 2] No such file or directory: '12.png'",
     "output_type": "error",
     "traceback": [
      "\u001b[1;31m---------------------------------------------------------------------------\u001b[0m",
      "\u001b[1;31mFileNotFoundError\u001b[0m                         Traceback (most recent call last)",
      "Cell \u001b[1;32mIn[10], line 11\u001b[0m\n\u001b[0;32m      8\u001b[0m caminho \u001b[38;5;241m=\u001b[39m \u001b[38;5;124m'\u001b[39m\u001b[38;5;124m12.png\u001b[39m\u001b[38;5;124m'\u001b[39m\n\u001b[0;32m     10\u001b[0m \u001b[38;5;66;03m#abrir imagem com PIL\u001b[39;00m\n\u001b[1;32m---> 11\u001b[0m img \u001b[38;5;241m=\u001b[39m \u001b[43mImage\u001b[49m\u001b[38;5;241;43m.\u001b[39;49m\u001b[43mopen\u001b[49m\u001b[43m(\u001b[49m\u001b[43mcaminho\u001b[49m\u001b[43m)\u001b[49m\u001b[38;5;66;03m# L = grayscale\u001b[39;00m\n\u001b[0;32m     13\u001b[0m \u001b[38;5;66;03m#redimensiona opara 28x28 pixls (formato do dataset Fashion MNIST)\u001b[39;00m\n\u001b[0;32m     14\u001b[0m img \u001b[38;5;241m=\u001b[39m img\u001b[38;5;241m.\u001b[39mresize((\u001b[38;5;241m64\u001b[39m,\u001b[38;5;241m64\u001b[39m))\n",
      "File \u001b[1;32md:\\Nova pasta\\.venv\\lib\\site-packages\\PIL\\Image.py:3247\u001b[0m, in \u001b[0;36mopen\u001b[1;34m(fp, mode, formats)\u001b[0m\n\u001b[0;32m   3244\u001b[0m     filename \u001b[38;5;241m=\u001b[39m fp\n\u001b[0;32m   3246\u001b[0m \u001b[38;5;28;01mif\u001b[39;00m filename:\n\u001b[1;32m-> 3247\u001b[0m     fp \u001b[38;5;241m=\u001b[39m \u001b[43mbuiltins\u001b[49m\u001b[38;5;241;43m.\u001b[39;49m\u001b[43mopen\u001b[49m\u001b[43m(\u001b[49m\u001b[43mfilename\u001b[49m\u001b[43m,\u001b[49m\u001b[43m \u001b[49m\u001b[38;5;124;43m\"\u001b[39;49m\u001b[38;5;124;43mrb\u001b[39;49m\u001b[38;5;124;43m\"\u001b[39;49m\u001b[43m)\u001b[49m\n\u001b[0;32m   3248\u001b[0m     exclusive_fp \u001b[38;5;241m=\u001b[39m \u001b[38;5;28;01mTrue\u001b[39;00m\n\u001b[0;32m   3250\u001b[0m \u001b[38;5;28;01mtry\u001b[39;00m:\n",
      "\u001b[1;31mFileNotFoundError\u001b[0m: [Errno 2] No such file or directory: '12.png'"
     ]
    }
   ],
   "source": [
    "#etapa 10 -  TREINAMENTO DE IMAGEM EXTERNA\n",
    "\n",
    "from tensorflow.keras.preprocessing import image\n",
    "from PIL import Image\n",
    "import numpy as np\n",
    "\n",
    "#caminho das imagens\n",
    "caminho = '12.png'\n",
    "\n",
    "#abrir imagem com PIL\n",
    "img = Image.open(caminho)# L = grayscale\n",
    "\n",
    "#redimensiona opara 28x28 pixls (formato do dataset Fashion MNIST)\n",
    "img = img.resize((64,64))\n",
    "\n",
    "#converter para array numpy e normalizar\n",
    "img_array = np.array(img) / 255.0  #nomalizar par 0-1(preto ou branco)\n",
    "\n",
    "#oprcional -  inverte cores se o fundo para escuro se a peça for clara\n",
    "# img_array = 1 - img_array\n",
    "\n",
    "#adiciona a dimensao de lote (batch_size=1)\n",
    "img_array = img_array.reshape(1,64,64,3) #em 1 dimensao no formato 28x28\n",
    "\n",
    "import matplotlib.pyplot as plt\n",
    "plt.imshow(img_array[0], cmap='gray')\n",
    "plt.title('Imagem tratada')\n",
    "plt.axis('off')\n",
    "plt.show()\n",
    "\n",
    "#se o modelo for treinado com o fundo escuro precisa converter as imagens do mesmo jeito"
   ]
  },
  {
   "cell_type": "code",
   "execution_count": 28,
   "id": "81cb573f",
   "metadata": {},
   "outputs": [
    {
     "name": "stdout",
     "output_type": "stream",
     "text": [
      "\u001b[1m1/1\u001b[0m \u001b[32m━━━━━━━━━━━━━━━━━━━━\u001b[0m\u001b[37m\u001b[0m \u001b[1m0s\u001b[0m 47ms/step\n",
      "Classe prevista: F\n",
      "Confirança: 100.00%\n"
     ]
    }
   ],
   "source": [
    "#previsao da classe\n",
    "predicao = model.predict(img_array)\n",
    "\n",
    "#idetificando o indice da classe cm maior probabilidade\n",
    "indice_classe = np.argmax(predicao)\n",
    "\n",
    "print(f'Classe prevista: {class_names[indice_classe]}')\n",
    "print(f'Confirança: {predicao[0][indice_classe]*100:.2f}%')"
   ]
  },
  {
   "cell_type": "code",
   "execution_count": 29,
   "id": "c438b2e1",
   "metadata": {},
   "outputs": [
    {
     "name": "stderr",
     "output_type": "stream",
     "text": [
      "WARNING:absl:You are saving your model as an HDF5 file via `model.save()` or `keras.saving.save_model(model)`. This file format is considered legacy. We recommend using instead the native Keras format, e.g. `model.save('my_model.keras')` or `keras.saving.save_model(model, 'my_model.keras')`. \n"
     ]
    }
   ],
   "source": [
    "model.save(\"modelo_libras2.h5\")"
   ]
  }
 ],
 "metadata": {
  "kernelspec": {
   "display_name": ".venv",
   "language": "python",
   "name": "python3"
  },
  "language_info": {
   "codemirror_mode": {
    "name": "ipython",
    "version": 3
   },
   "file_extension": ".py",
   "mimetype": "text/x-python",
   "name": "python",
   "nbconvert_exporter": "python",
   "pygments_lexer": "ipython3",
   "version": "3.10.11"
  }
 },
 "nbformat": 4,
 "nbformat_minor": 5
}

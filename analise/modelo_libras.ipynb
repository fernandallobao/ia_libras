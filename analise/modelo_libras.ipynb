{
 "cells": [
  {
   "cell_type": "code",
   "execution_count": 51,
   "id": "9cd40389",
   "metadata": {},
   "outputs": [],
   "source": [
    "import tensorflow as tf\n",
    "import matplotlib.pyplot as plt\n",
    "import pandas as pd \n",
    "import numpy as np"
   ]
  },
  {
   "cell_type": "code",
   "execution_count": 52,
   "id": "8240e9a2",
   "metadata": {},
   "outputs": [
    {
     "name": "stdout",
     "output_type": "stream",
     "text": [
      "../train\n",
      "../test\n"
     ]
    }
   ],
   "source": [
    "train_dir = \"../train\"\n",
    "test_dir = \"../test\"\n",
    "\n",
    "print(train_dir)\n",
    "print(test_dir)\n"
   ]
  },
  {
   "cell_type": "code",
   "execution_count": 53,
   "id": "f0f81c35",
   "metadata": {},
   "outputs": [
    {
     "name": "stdout",
     "output_type": "stream",
     "text": [
      "Found 34714 files belonging to 21 classes.\n",
      "Found 11548 files belonging to 21 classes.\n"
     ]
    }
   ],
   "source": [
    "# Carregue os datasets\n",
    "img_size = (64, 64)  # Tamanho desejado (ex: 224x224 para Transfer Learning)\n",
    "batch_size = 32        # Pode ajustar conforme sua GPU\n",
    "\n",
    "train_ds = tf.keras.preprocessing.image_dataset_from_directory(\n",
    "    train_dir,\n",
    "    image_size=img_size,\n",
    "    batch_size=batch_size,\n",
    "    shuffle=True,       # Embaralha os dados\n",
    "    seed=42             # Para reprodutibilidade\n",
    ")\n",
    "\n",
    "test_ds = tf.keras.preprocessing.image_dataset_from_directory(\n",
    "    test_dir,\n",
    "    image_size=img_size,\n",
    "    batch_size=batch_size,\n",
    "    shuffle=False       # Não precisa embaralhar o teste\n",
    ")"
   ]
  },
  {
   "cell_type": "code",
   "execution_count": 54,
   "id": "c42f742d",
   "metadata": {},
   "outputs": [
    {
     "name": "stdout",
     "output_type": "stream",
     "text": [
      "Classes (letras) encontradas: ['A', 'B', 'C', 'D', 'E', 'F', 'G', 'I', 'L', 'M', 'N', 'O', 'P', 'Q', 'R', 'S', 'T', 'U', 'V', 'W', 'Y']\n",
      "\n",
      "Formato das imagens: (32, 64, 64, 3)\n",
      "Formato de UMA imagem: (64, 64, 3)\n",
      "Rótulos do batch: [ 7 13  6 19 18 13  1  6  3 15  1 18  9  4  1 11  9 17  5  0 12  4 10 19\n",
      " 13  4 17  1  3 18  1  5]\n"
     ]
    }
   ],
   "source": [
    "# Número de classes (letras)\n",
    "class_names = train_ds.class_names\n",
    "print(\"Classes (letras) encontradas:\", class_names)\n",
    "\n",
    "# Formato de um batch de imagens\n",
    "for images, labels in train_ds.take(1):  # Pega o primeiro batch\n",
    "    print(\"\\nFormato das imagens:\", images.shape)  # (batch_size, 224, 224, 3)\n",
    "    print(\"Formato de UMA imagem:\", images[0].shape)  # (224, 224, 3)\n",
    "    print(\"Rótulos do batch:\", labels.numpy())  # Ex: [0, 2, 1, ...] (índices das classes)"
   ]
  },
  {
   "cell_type": "code",
   "execution_count": 55,
   "id": "ea86660d",
   "metadata": {},
   "outputs": [
    {
     "name": "stdout",
     "output_type": "stream",
     "text": [
      "GPUs disponíveis: []\n"
     ]
    }
   ],
   "source": [
    "print(\"GPUs disponíveis:\", tf.config.list_physical_devices('GPU'))"
   ]
  },
  {
   "cell_type": "code",
   "execution_count": 56,
   "id": "c96e0211",
   "metadata": {},
   "outputs": [],
   "source": [
    "normalization_layer = tf.keras.layers.Rescaling(1./255)\n",
    "train_ds = train_ds.map(lambda x, y: (normalization_layer(x), y))\n",
    "test_ds = test_ds.map(lambda x, y: (normalization_layer(x), y))"
   ]
  },
  {
   "cell_type": "code",
   "execution_count": 57,
   "id": "b1f7ccaa",
   "metadata": {},
   "outputs": [
    {
     "name": "stdout",
     "output_type": "stream",
     "text": [
      "Epoch 1/10\n",
      "\u001b[1m1085/1085\u001b[0m \u001b[32m━━━━━━━━━━━━━━━━━━━━\u001b[0m\u001b[37m\u001b[0m \u001b[1m33s\u001b[0m 30ms/step - accuracy: 0.5837 - loss: 1.7169 - val_accuracy: 0.7950 - val_loss: 0.7685\n",
      "Epoch 2/10\n",
      "\u001b[1m1085/1085\u001b[0m \u001b[32m━━━━━━━━━━━━━━━━━━━━\u001b[0m\u001b[37m\u001b[0m \u001b[1m33s\u001b[0m 30ms/step - accuracy: 0.9375 - loss: 0.2603 - val_accuracy: 0.8328 - val_loss: 0.6303\n",
      "Epoch 3/10\n",
      "\u001b[1m1085/1085\u001b[0m \u001b[32m━━━━━━━━━━━━━━━━━━━━\u001b[0m\u001b[37m\u001b[0m \u001b[1m33s\u001b[0m 30ms/step - accuracy: 0.9775 - loss: 0.1016 - val_accuracy: 0.8369 - val_loss: 0.6390\n",
      "Epoch 4/10\n",
      "\u001b[1m1085/1085\u001b[0m \u001b[32m━━━━━━━━━━━━━━━━━━━━\u001b[0m\u001b[37m\u001b[0m \u001b[1m33s\u001b[0m 30ms/step - accuracy: 0.9904 - loss: 0.0464 - val_accuracy: 0.8477 - val_loss: 0.6313\n",
      "Epoch 5/10\n",
      "\u001b[1m1085/1085\u001b[0m \u001b[32m━━━━━━━━━━━━━━━━━━━━\u001b[0m\u001b[37m\u001b[0m \u001b[1m33s\u001b[0m 30ms/step - accuracy: 0.9963 - loss: 0.0219 - val_accuracy: 0.8406 - val_loss: 0.7116\n",
      "Epoch 6/10\n",
      "\u001b[1m1085/1085\u001b[0m \u001b[32m━━━━━━━━━━━━━━━━━━━━\u001b[0m\u001b[37m\u001b[0m \u001b[1m33s\u001b[0m 30ms/step - accuracy: 0.9983 - loss: 0.0114 - val_accuracy: 0.8479 - val_loss: 0.7082\n",
      "Epoch 7/10\n",
      "\u001b[1m1085/1085\u001b[0m \u001b[32m━━━━━━━━━━━━━━━━━━━━\u001b[0m\u001b[37m\u001b[0m \u001b[1m33s\u001b[0m 31ms/step - accuracy: 0.9989 - loss: 0.0075 - val_accuracy: 0.8518 - val_loss: 0.7626\n",
      "Epoch 8/10\n",
      "\u001b[1m1085/1085\u001b[0m \u001b[32m━━━━━━━━━━━━━━━━━━━━\u001b[0m\u001b[37m\u001b[0m \u001b[1m32s\u001b[0m 29ms/step - accuracy: 0.9994 - loss: 0.0045 - val_accuracy: 0.8601 - val_loss: 0.7464\n",
      "Epoch 9/10\n",
      "\u001b[1m1085/1085\u001b[0m \u001b[32m━━━━━━━━━━━━━━━━━━━━\u001b[0m\u001b[37m\u001b[0m \u001b[1m31s\u001b[0m 29ms/step - accuracy: 0.9982 - loss: 0.0092 - val_accuracy: 0.8384 - val_loss: 0.8865\n",
      "Epoch 10/10\n",
      "\u001b[1m1085/1085\u001b[0m \u001b[32m━━━━━━━━━━━━━━━━━━━━\u001b[0m\u001b[37m\u001b[0m \u001b[1m32s\u001b[0m 29ms/step - accuracy: 0.9997 - loss: 0.0025 - val_accuracy: 0.8487 - val_loss: 0.8618\n"
     ]
    },
    {
     "data": {
      "text/plain": [
       "<keras.src.callbacks.history.History at 0x2723587a080>"
      ]
     },
     "execution_count": 57,
     "metadata": {},
     "output_type": "execute_result"
    }
   ],
   "source": [
    "model = tf.keras.Sequential([\n",
    "    tf.keras.layers.Conv2D(32, (3, 3), activation='relu', input_shape=(64, 64, 3)),\n",
    "    tf.keras.layers.MaxPooling2D(),\n",
    "    tf.keras.layers.Flatten(),\n",
    "    tf.keras.layers.Dense(len(class_names), activation='softmax')\n",
    "])\n",
    "\n",
    "model.compile(optimizer='adam', loss='sparse_categorical_crossentropy', metrics=['accuracy'])\n",
    "model.fit(train_ds, validation_data=test_ds, epochs=10)"
   ]
  },
  {
   "cell_type": "code",
   "execution_count": 58,
   "id": "741633e0",
   "metadata": {},
   "outputs": [
    {
     "name": "stdout",
     "output_type": "stream",
     "text": [
      "\u001b[1m361/361\u001b[0m \u001b[32m━━━━━━━━━━━━━━━━━━━━\u001b[0m\u001b[37m\u001b[0m \u001b[1m3s\u001b[0m 8ms/step - accuracy: 0.8565 - loss: 0.8160\n",
      "Acurácia no teste: 84.87%\n",
      "Perda no teste: 0.8618\n"
     ]
    }
   ],
   "source": [
    "# Avaliação no conjunto de teste\n",
    "test_loss, test_accuracy = model.evaluate(test_ds)\n",
    "\n",
    "print(f\"Acurácia no teste: {test_accuracy:.2%}\")\n",
    "print(f\"Perda no teste: {test_loss:.4f}\")"
   ]
  },
  {
   "cell_type": "code",
   "execution_count": 59,
   "id": "c438b2e1",
   "metadata": {},
   "outputs": [
    {
     "name": "stderr",
     "output_type": "stream",
     "text": [
      "WARNING:absl:You are saving your model as an HDF5 file via `model.save()` or `keras.saving.save_model(model)`. This file format is considered legacy. We recommend using instead the native Keras format, e.g. `model.save('my_model.keras')` or `keras.saving.save_model(model, 'my_model.keras')`. \n"
     ]
    }
   ],
   "source": [
    "model.save(\"modelo_libras.h5\")"
   ]
  }
 ],
 "metadata": {
  "kernelspec": {
   "display_name": ".venv",
   "language": "python",
   "name": "python3"
  },
  "language_info": {
   "codemirror_mode": {
    "name": "ipython",
    "version": 3
   },
   "file_extension": ".py",
   "mimetype": "text/x-python",
   "name": "python",
   "nbconvert_exporter": "python",
   "pygments_lexer": "ipython3",
   "version": "3.10.11"
  }
 },
 "nbformat": 4,
 "nbformat_minor": 5
}

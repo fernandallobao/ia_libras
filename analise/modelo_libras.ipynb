{
 "cells": [
  {
   "cell_type": "code",
   "execution_count": 7,
   "id": "9cd40389",
   "metadata": {},
   "outputs": [
    {
     "ename": "ImportError",
     "evalue": "cannot import name 'keras' from 'tensorflow' (unknown location)",
     "output_type": "error",
     "traceback": [
      "\u001b[1;31m---------------------------------------------------------------------------\u001b[0m",
      "\u001b[1;31mImportError\u001b[0m                               Traceback (most recent call last)",
      "Cell \u001b[1;32mIn[7], line 5\u001b[0m\n\u001b[0;32m      3\u001b[0m \u001b[38;5;28;01mimport\u001b[39;00m\u001b[38;5;250m \u001b[39m\u001b[38;5;21;01mpandas\u001b[39;00m\u001b[38;5;250m \u001b[39m\u001b[38;5;28;01mas\u001b[39;00m\u001b[38;5;250m \u001b[39m\u001b[38;5;21;01mpd\u001b[39;00m \n\u001b[0;32m      4\u001b[0m \u001b[38;5;28;01mimport\u001b[39;00m\u001b[38;5;250m \u001b[39m\u001b[38;5;21;01mnumpy\u001b[39;00m\u001b[38;5;250m \u001b[39m\u001b[38;5;28;01mas\u001b[39;00m\u001b[38;5;250m \u001b[39m\u001b[38;5;21;01mnp\u001b[39;00m\n\u001b[1;32m----> 5\u001b[0m \u001b[38;5;28;01mfrom\u001b[39;00m\u001b[38;5;250m \u001b[39m\u001b[38;5;21;01mtensorflow\u001b[39;00m\u001b[38;5;250m \u001b[39m\u001b[38;5;28;01mimport\u001b[39;00m keras\n",
      "\u001b[1;31mImportError\u001b[0m: cannot import name 'keras' from 'tensorflow' (unknown location)"
     ]
    }
   ],
   "source": [
    "import tensorflow as tf\n",
    "import matplotlib.pyplot as plt\n",
    "import pandas as pd \n",
    "import numpy as np\n",
    "from tensorflow import keras"
   ]
  },
  {
   "cell_type": "code",
   "execution_count": 3,
   "id": "8240e9a2",
   "metadata": {},
   "outputs": [
    {
     "name": "stdout",
     "output_type": "stream",
     "text": [
      "../train\n",
      "../test\n"
     ]
    }
   ],
   "source": [
    "train_dir = \"../train\"\n",
    "test_dir = \"../test\"\n",
    "\n",
    "print(train_dir)\n",
    "print(test_dir)\n"
   ]
  },
  {
   "cell_type": "code",
   "execution_count": 6,
   "id": "f0f81c35",
   "metadata": {},
   "outputs": [
    {
     "ename": "AttributeError",
     "evalue": "module 'tensorflow' has no attribute 'keras'",
     "output_type": "error",
     "traceback": [
      "\u001b[1;31m---------------------------------------------------------------------------\u001b[0m",
      "\u001b[1;31mAttributeError\u001b[0m                            Traceback (most recent call last)",
      "Cell \u001b[1;32mIn[6], line 5\u001b[0m\n\u001b[0;32m      2\u001b[0m img_size \u001b[38;5;241m=\u001b[39m (\u001b[38;5;241m64\u001b[39m, \u001b[38;5;241m64\u001b[39m)  \u001b[38;5;66;03m# Tamanho desejado (ex: 224x224 para Transfer Learning)\u001b[39;00m\n\u001b[0;32m      3\u001b[0m batch_size \u001b[38;5;241m=\u001b[39m \u001b[38;5;241m32\u001b[39m        \u001b[38;5;66;03m# Pode ajustar conforme sua GPU\u001b[39;00m\n\u001b[1;32m----> 5\u001b[0m train_ds \u001b[38;5;241m=\u001b[39m \u001b[43mtf\u001b[49m\u001b[38;5;241;43m.\u001b[39;49m\u001b[43mkeras\u001b[49m\u001b[38;5;241m.\u001b[39mpreprocessing\u001b[38;5;241m.\u001b[39mimage_dataset_from_directory(\n\u001b[0;32m      6\u001b[0m     train_dir,\n\u001b[0;32m      7\u001b[0m     image_size\u001b[38;5;241m=\u001b[39mimg_size,\n\u001b[0;32m      8\u001b[0m     batch_size\u001b[38;5;241m=\u001b[39mbatch_size,\n\u001b[0;32m      9\u001b[0m     shuffle\u001b[38;5;241m=\u001b[39m\u001b[38;5;28;01mTrue\u001b[39;00m,       \u001b[38;5;66;03m# Embaralha os dados\u001b[39;00m\n\u001b[0;32m     10\u001b[0m     seed\u001b[38;5;241m=\u001b[39m\u001b[38;5;241m42\u001b[39m             \u001b[38;5;66;03m# Para reprodutibilidade\u001b[39;00m\n\u001b[0;32m     11\u001b[0m )\n\u001b[0;32m     13\u001b[0m test_ds \u001b[38;5;241m=\u001b[39m tf\u001b[38;5;241m.\u001b[39mkeras\u001b[38;5;241m.\u001b[39mpreprocessing\u001b[38;5;241m.\u001b[39mimage_dataset_from_directory(\n\u001b[0;32m     14\u001b[0m     test_dir,\n\u001b[0;32m     15\u001b[0m     image_size\u001b[38;5;241m=\u001b[39mimg_size,\n\u001b[0;32m     16\u001b[0m     batch_size\u001b[38;5;241m=\u001b[39mbatch_size,\n\u001b[0;32m     17\u001b[0m     shuffle\u001b[38;5;241m=\u001b[39m\u001b[38;5;28;01mFalse\u001b[39;00m       \u001b[38;5;66;03m# Não precisa embaralhar o teste\u001b[39;00m\n\u001b[0;32m     18\u001b[0m )\n",
      "\u001b[1;31mAttributeError\u001b[0m: module 'tensorflow' has no attribute 'keras'"
     ]
    }
   ],
   "source": [
    "# Carregue os datasets\n",
    "img_size = (64, 64)  # Tamanho desejado (ex: 224x224 para Transfer Learning)\n",
    "batch_size = 32        # Pode ajustar conforme sua GPU\n",
    "\n",
    "train_ds = tf.keras.preprocessing.image_dataset_from_directory(\n",
    "    train_dir,\n",
    "    image_size=img_size,\n",
    "    batch_size=batch_size,\n",
    "    shuffle=True,       # Embaralha os dados\n",
    "    seed=42             # Para reprodutibilidade\n",
    ")\n",
    "\n",
    "test_ds = tf.keras.preprocessing.image_dataset_from_directory(\n",
    "    test_dir,\n",
    "    image_size=img_size,\n",
    "    batch_size=batch_size,\n",
    "    shuffle=False       # Não precisa embaralhar o teste\n",
    ")"
   ]
  },
  {
   "cell_type": "code",
   "execution_count": null,
   "id": "c42f742d",
   "metadata": {},
   "outputs": [],
   "source": [
    "# Número de classes (letras)\n",
    "class_names = train_ds.class_names\n",
    "print(\"Classes (letras) encontradas:\", class_names)\n",
    "\n",
    "# Formato de um batch de imagens\n",
    "for images, labels in train_ds.take(1):  # Pega o primeiro batch\n",
    "    print(\"\\nFormato das imagens:\", images.shape)  # (batch_size, 224, 224, 3)\n",
    "    print(\"Formato de UMA imagem:\", images[0].shape)  # (224, 224, 3)\n",
    "    print(\"Rótulos do batch:\", labels.numpy())  # Ex: [0, 2, 1, ...] (índices das classes)"
   ]
  },
  {
   "cell_type": "code",
   "execution_count": null,
   "id": "ea86660d",
   "metadata": {},
   "outputs": [],
   "source": [
    "print(\"GPUs disponíveis:\", tf.config.list_physical_devices('GPU'))"
   ]
  },
  {
   "cell_type": "code",
   "execution_count": null,
   "id": "c96e0211",
   "metadata": {},
   "outputs": [],
   "source": [
    "normalization_layer = tf.keras.layers.Rescaling(1./255)\n",
    "train_ds = train_ds.map(lambda x, y: (normalization_layer(x), y))\n",
    "test_ds = test_ds.map(lambda x, y: (normalization_layer(x), y))"
   ]
  },
  {
   "cell_type": "code",
   "execution_count": null,
   "id": "b1f7ccaa",
   "metadata": {},
   "outputs": [],
   "source": [
    "model = tf.keras.Sequential([\n",
    "    tf.keras.layers.Conv2D(32, (3, 3), activation='relu', input_shape=(64, 64, 3)),\n",
    "    tf.keras.layers.MaxPooling2D(),\n",
    "    tf.keras.layers.Flatten(),\n",
    "    tf.keras.layers.Dense(len(class_names), activation='softmax')\n",
    "])\n",
    "\n",
    "model.compile(optimizer='adam', loss='sparse_categorical_crossentropy', metrics=['accuracy'])\n",
    "model.fit(train_ds, validation_data=test_ds, epochs=10)"
   ]
  },
  {
   "cell_type": "code",
   "execution_count": null,
   "id": "741633e0",
   "metadata": {},
   "outputs": [],
   "source": [
    "# Avaliação no conjunto de teste\n",
    "test_loss, test_accuracy = model.evaluate(test_ds)\n",
    "\n",
    "print(f\"Acurácia no teste: {test_accuracy:.2%}\")\n",
    "print(f\"Perda no teste: {test_loss:.4f}\")"
   ]
  },
  {
   "cell_type": "code",
   "execution_count": null,
   "id": "c438b2e1",
   "metadata": {},
   "outputs": [],
   "source": [
    "# model.save(\"modelo_libras.h5\")"
   ]
  },
  {
   "cell_type": "code",
   "execution_count": null,
   "id": "aa8aaa2a",
   "metadata": {},
   "outputs": [],
   "source": [
    "#etapa 10 -  TREINAMENTO DE IMAGEM EXTERNA\n",
    "\n",
    "from tensorflow.keras.preprocessing import image\n",
    "from PIL import Image\n",
    "import numpy as np\n",
    "\n",
    "#caminho das imagens\n",
    "caminho = './imagens/a.jpg'\n",
    "\n",
    "#abrir imagem com PIL\n",
    "img = Image.open(caminho)# L = grayscale\n",
    "\n",
    "#redimensiona opara 28x28 pixls (formato do dataset Fashion MNIST)\n",
    "img = img.resize((64,64))\n",
    "\n",
    "#converter para array numpy e normalizar\n",
    "img_array = np.array(img) / 255.0  #nomalizar par 0-1(preto ou branco)\n",
    "\n",
    "#oprcional -  inverte cores se o fundo para escuro se a peça for clara\n",
    "# img_array = 1 - img_array\n",
    "\n",
    "#adiciona a dimensao de lote (batch_size=1)\n",
    "img_array = img_array.reshape(1,64,64) #em 1 dimensao no formato 28x28\n",
    "\n",
    "import matplotlib.pyplot as plt\n",
    "plt.imshow(img_array[0], cmap='gray')\n",
    "plt.title('Imagem tratada')\n",
    "plt.axis('off')\n",
    "plt.show()\n",
    "\n",
    "#se o modelo for treinado com o fundo escuro precisa converter as imagens do mesmo jeito"
   ]
  },
  {
   "cell_type": "code",
   "execution_count": null,
   "id": "81cb573f",
   "metadata": {},
   "outputs": [],
   "source": [
    "#previsao da classe\n",
    "predicao = model.predict(img_array)\n",
    "\n",
    "#idetificando o indice da classe cm maior probabilidade\n",
    "indice_classe = np.argmax(predicao)\n",
    "\n",
    "print(f'Classe prevista: {classe_nomes[indice_classe]}')\n",
    "print(f'Confirança: {predicao[0][indice_classe]*100:.2f}%')"
   ]
  }
 ],
 "metadata": {
  "kernelspec": {
   "display_name": ".venv",
   "language": "python",
   "name": "python3"
  },
  "language_info": {
   "codemirror_mode": {
    "name": "ipython",
    "version": 3
   },
   "file_extension": ".py",
   "mimetype": "text/x-python",
   "name": "python",
   "nbconvert_exporter": "python",
   "pygments_lexer": "ipython3",
   "version": "3.10.11"
  }
 },
 "nbformat": 4,
 "nbformat_minor": 5
}
